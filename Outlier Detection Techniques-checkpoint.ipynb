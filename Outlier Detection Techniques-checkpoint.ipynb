{
 "cells": [
  {
   "cell_type": "code",
   "execution_count": 1,
   "id": "2677a702-c083-4d1a-97ca-fa40b02348ba",
   "metadata": {},
   "outputs": [],
   "source": [
    "import pandas as pd"
   ]
  },
  {
   "cell_type": "code",
   "execution_count": 2,
   "id": "cb7bf158-c9b4-488a-a177-b2bcb7f3cccc",
   "metadata": {
    "collapsed": true,
    "jupyter": {
     "outputs_hidden": true
    },
    "scrolled": true
   },
   "outputs": [
    {
     "name": "stdout",
     "output_type": "stream",
     "text": [
      "Requirement already satisfied: seaborn in c:\\users\\ivane\\appdata\\local\\programs\\python\\python311\\lib\\site-packages (0.13.2)\n",
      "Requirement already satisfied: numpy!=1.24.0,>=1.20 in c:\\users\\ivane\\appdata\\local\\programs\\python\\python311\\lib\\site-packages (from seaborn) (1.24.3)\n",
      "Requirement already satisfied: pandas>=1.2 in c:\\users\\ivane\\appdata\\local\\programs\\python\\python311\\lib\\site-packages (from seaborn) (2.0.1)\n",
      "Requirement already satisfied: matplotlib!=3.6.1,>=3.4 in c:\\users\\ivane\\appdata\\local\\programs\\python\\python311\\lib\\site-packages (from seaborn) (3.7.1)\n",
      "Requirement already satisfied: contourpy>=1.0.1 in c:\\users\\ivane\\appdata\\local\\programs\\python\\python311\\lib\\site-packages (from matplotlib!=3.6.1,>=3.4->seaborn) (1.0.7)\n",
      "Requirement already satisfied: cycler>=0.10 in c:\\users\\ivane\\appdata\\local\\programs\\python\\python311\\lib\\site-packages (from matplotlib!=3.6.1,>=3.4->seaborn) (0.11.0)\n",
      "Requirement already satisfied: fonttools>=4.22.0 in c:\\users\\ivane\\appdata\\local\\programs\\python\\python311\\lib\\site-packages (from matplotlib!=3.6.1,>=3.4->seaborn) (4.39.3)\n",
      "Requirement already satisfied: kiwisolver>=1.0.1 in c:\\users\\ivane\\appdata\\local\\programs\\python\\python311\\lib\\site-packages (from matplotlib!=3.6.1,>=3.4->seaborn) (1.4.4)\n",
      "Requirement already satisfied: packaging>=20.0 in c:\\users\\ivane\\appdata\\local\\programs\\python\\python311\\lib\\site-packages (from matplotlib!=3.6.1,>=3.4->seaborn) (23.2)\n",
      "Requirement already satisfied: pillow>=6.2.0 in c:\\users\\ivane\\appdata\\local\\programs\\python\\python311\\lib\\site-packages (from matplotlib!=3.6.1,>=3.4->seaborn) (9.5.0)\n",
      "Requirement already satisfied: pyparsing>=2.3.1 in c:\\users\\ivane\\appdata\\local\\programs\\python\\python311\\lib\\site-packages (from matplotlib!=3.6.1,>=3.4->seaborn) (3.0.9)\n",
      "Requirement already satisfied: python-dateutil>=2.7 in c:\\users\\ivane\\appdata\\local\\programs\\python\\python311\\lib\\site-packages (from matplotlib!=3.6.1,>=3.4->seaborn) (2.8.2)\n",
      "Requirement already satisfied: pytz>=2020.1 in c:\\users\\ivane\\appdata\\local\\programs\\python\\python311\\lib\\site-packages (from pandas>=1.2->seaborn) (2023.3)\n",
      "Requirement already satisfied: tzdata>=2022.1 in c:\\users\\ivane\\appdata\\local\\programs\\python\\python311\\lib\\site-packages (from pandas>=1.2->seaborn) (2023.3)\n",
      "Requirement already satisfied: six>=1.5 in c:\\users\\ivane\\appdata\\local\\programs\\python\\python311\\lib\\site-packages (from python-dateutil>=2.7->matplotlib!=3.6.1,>=3.4->seaborn) (1.16.0)\n",
      "Note: you may need to restart the kernel to use updated packages.\n"
     ]
    }
   ],
   "source": [
    "pip install seaborn"
   ]
  },
  {
   "cell_type": "code",
   "execution_count": 27,
   "id": "36af846c-12ba-4deb-a7fe-78a1e3b8969e",
   "metadata": {
    "collapsed": true,
    "jupyter": {
     "outputs_hidden": true
    },
    "scrolled": true
   },
   "outputs": [
    {
     "name": "stdout",
     "output_type": "stream",
     "text": [
      "Collecting scikit-learnNote: you may need to restart the kernel to use updated packages.\n",
      "\n",
      "  Downloading scikit_learn-1.4.2-cp311-cp311-win_amd64.whl.metadata (11 kB)\n",
      "Requirement already satisfied: numpy>=1.19.5 in c:\\users\\ivane\\appdata\\local\\programs\\python\\python311\\lib\\site-packages (from scikit-learn) (1.24.3)\n",
      "Collecting scipy>=1.6.0 (from scikit-learn)\n",
      "  Downloading scipy-1.13.0-cp311-cp311-win_amd64.whl.metadata (60 kB)\n",
      "     ---------------------------------------- 0.0/60.6 kB ? eta -:--:--\n",
      "     ---------------------------------------- 60.6/60.6 kB 3.1 MB/s eta 0:00:00\n",
      "Requirement already satisfied: joblib>=1.2.0 in c:\\users\\ivane\\appdata\\local\\programs\\python\\python311\\lib\\site-packages (from scikit-learn) (1.2.0)\n",
      "Collecting threadpoolctl>=2.0.0 (from scikit-learn)\n",
      "  Downloading threadpoolctl-3.4.0-py3-none-any.whl.metadata (13 kB)\n",
      "Downloading scikit_learn-1.4.2-cp311-cp311-win_amd64.whl (10.6 MB)\n",
      "   ---------------------------------------- 0.0/10.6 MB ? eta -:--:--\n",
      "    --------------------------------------- 0.3/10.6 MB 7.7 MB/s eta 0:00:02\n",
      "   - -------------------------------------- 0.5/10.6 MB 8.1 MB/s eta 0:00:02\n",
      "   --- ------------------------------------ 1.0/10.6 MB 7.3 MB/s eta 0:00:02\n",
      "   ----- ---------------------------------- 1.4/10.6 MB 7.1 MB/s eta 0:00:02\n",
      "   ------ --------------------------------- 1.6/10.6 MB 6.8 MB/s eta 0:00:02\n",
      "   ------- -------------------------------- 2.0/10.6 MB 7.0 MB/s eta 0:00:02\n",
      "   -------- ------------------------------- 2.4/10.6 MB 7.1 MB/s eta 0:00:02\n",
      "   ---------- ----------------------------- 2.8/10.6 MB 7.6 MB/s eta 0:00:02\n",
      "   ------------ --------------------------- 3.3/10.6 MB 8.2 MB/s eta 0:00:01\n",
      "   -------------- ------------------------- 3.8/10.6 MB 8.4 MB/s eta 0:00:01\n",
      "   ---------------- ----------------------- 4.3/10.6 MB 8.5 MB/s eta 0:00:01\n",
      "   ----------------- ---------------------- 4.7/10.6 MB 8.6 MB/s eta 0:00:01\n",
      "   ------------------- -------------------- 5.2/10.6 MB 8.7 MB/s eta 0:00:01\n",
      "   --------------------- ------------------ 5.6/10.6 MB 8.9 MB/s eta 0:00:01\n",
      "   ---------------------- ----------------- 6.1/10.6 MB 8.8 MB/s eta 0:00:01\n",
      "   ------------------------ --------------- 6.5/10.6 MB 8.8 MB/s eta 0:00:01\n",
      "   -------------------------- ------------- 7.0/10.6 MB 8.9 MB/s eta 0:00:01\n",
      "   --------------------------- ------------ 7.3/10.6 MB 8.8 MB/s eta 0:00:01\n",
      "   ----------------------------- ---------- 7.8/10.6 MB 8.9 MB/s eta 0:00:01\n",
      "   ------------------------------- -------- 8.3/10.6 MB 9.0 MB/s eta 0:00:01\n",
      "   --------------------------------- ------ 8.8/10.6 MB 9.1 MB/s eta 0:00:01\n",
      "   --------------------------------- ------ 8.9/10.6 MB 9.0 MB/s eta 0:00:01\n",
      "   --------------------------------- ------ 8.9/10.6 MB 9.0 MB/s eta 0:00:01\n",
      "   ----------------------------------- ---- 9.4/10.6 MB 8.4 MB/s eta 0:00:01\n",
      "   ----------------------------------- ---- 9.5/10.6 MB 8.2 MB/s eta 0:00:01\n",
      "   ------------------------------------- -- 9.8/10.6 MB 8.2 MB/s eta 0:00:01\n",
      "   ------------------------------------- -- 9.9/10.6 MB 8.2 MB/s eta 0:00:01\n",
      "   ------------------------------------- -- 9.9/10.6 MB 8.2 MB/s eta 0:00:01\n",
      "   ------------------------------------- -- 10.0/10.6 MB 7.5 MB/s eta 0:00:01\n",
      "   -------------------------------------- - 10.3/10.6 MB 7.5 MB/s eta 0:00:01\n",
      "   ---------------------------------------  10.6/10.6 MB 7.5 MB/s eta 0:00:01\n",
      "   ---------------------------------------  10.6/10.6 MB 7.5 MB/s eta 0:00:01\n",
      "   ---------------------------------------- 10.6/10.6 MB 7.0 MB/s eta 0:00:00\n",
      "Downloading scipy-1.13.0-cp311-cp311-win_amd64.whl (46.2 MB)\n",
      "   ---------------------------------------- 0.0/46.2 MB ? eta -:--:--\n",
      "   ---------------------------------------- 0.3/46.2 MB 8.0 MB/s eta 0:00:06\n",
      "   ---------------------------------------- 0.4/46.2 MB 5.9 MB/s eta 0:00:08\n",
      "   ---------------------------------------- 0.5/46.2 MB 4.3 MB/s eta 0:00:11\n",
      "   ---------------------------------------- 0.5/46.2 MB 4.3 MB/s eta 0:00:11\n",
      "    --------------------------------------- 0.9/46.2 MB 4.1 MB/s eta 0:00:12\n",
      "   - -------------------------------------- 1.4/46.2 MB 5.1 MB/s eta 0:00:09\n",
      "   - -------------------------------------- 1.9/46.2 MB 5.9 MB/s eta 0:00:08\n",
      "   -- ------------------------------------- 2.3/46.2 MB 6.5 MB/s eta 0:00:07\n",
      "   -- ------------------------------------- 2.7/46.2 MB 6.6 MB/s eta 0:00:07\n",
      "   -- ------------------------------------- 2.8/46.2 MB 6.6 MB/s eta 0:00:07\n",
      "   -- ------------------------------------- 3.0/46.2 MB 6.2 MB/s eta 0:00:07\n",
      "   -- ------------------------------------- 3.1/46.2 MB 5.7 MB/s eta 0:00:08\n",
      "   -- ------------------------------------- 3.5/46.2 MB 5.8 MB/s eta 0:00:08\n",
      "   --- ------------------------------------ 3.9/46.2 MB 6.0 MB/s eta 0:00:08\n",
      "   --- ------------------------------------ 4.3/46.2 MB 6.2 MB/s eta 0:00:07\n",
      "   ---- ----------------------------------- 4.7/46.2 MB 6.4 MB/s eta 0:00:07\n",
      "   ---- ----------------------------------- 5.2/46.2 MB 6.6 MB/s eta 0:00:07\n",
      "   ---- ----------------------------------- 5.6/46.2 MB 6.8 MB/s eta 0:00:06\n",
      "   ----- ---------------------------------- 6.1/46.2 MB 6.9 MB/s eta 0:00:06\n",
      "   ----- ---------------------------------- 6.6/46.2 MB 7.1 MB/s eta 0:00:06\n",
      "   ------ --------------------------------- 7.0/46.2 MB 7.2 MB/s eta 0:00:06\n",
      "   ------ --------------------------------- 7.5/46.2 MB 7.3 MB/s eta 0:00:06\n",
      "   ------ --------------------------------- 7.9/46.2 MB 7.4 MB/s eta 0:00:06\n",
      "   ------- -------------------------------- 8.3/46.2 MB 7.5 MB/s eta 0:00:06\n",
      "   ------- -------------------------------- 8.6/46.2 MB 7.6 MB/s eta 0:00:05\n",
      "   ------- -------------------------------- 9.1/46.2 MB 7.5 MB/s eta 0:00:05\n",
      "   -------- ------------------------------- 9.5/46.2 MB 7.7 MB/s eta 0:00:05\n",
      "   -------- ------------------------------- 9.9/46.2 MB 7.7 MB/s eta 0:00:05\n",
      "   -------- ------------------------------- 10.3/46.2 MB 7.7 MB/s eta 0:00:05\n",
      "   --------- ------------------------------ 10.8/46.2 MB 8.7 MB/s eta 0:00:05\n",
      "   --------- ------------------------------ 11.4/46.2 MB 8.7 MB/s eta 0:00:04\n",
      "   ---------- ----------------------------- 11.7/46.2 MB 8.6 MB/s eta 0:00:04\n",
      "   ---------- ----------------------------- 12.2/46.2 MB 8.6 MB/s eta 0:00:04\n",
      "   ---------- ----------------------------- 12.6/46.2 MB 8.5 MB/s eta 0:00:04\n",
      "   ----------- ---------------------------- 13.1/46.2 MB 9.1 MB/s eta 0:00:04\n",
      "   ----------- ---------------------------- 13.5/46.2 MB 9.4 MB/s eta 0:00:04\n",
      "   ------------ --------------------------- 14.0/46.2 MB 9.6 MB/s eta 0:00:04\n",
      "   ------------ --------------------------- 14.5/46.2 MB 9.6 MB/s eta 0:00:04\n",
      "   ------------ --------------------------- 14.9/46.2 MB 9.6 MB/s eta 0:00:04\n",
      "   ------------- -------------------------- 15.4/46.2 MB 9.6 MB/s eta 0:00:04\n",
      "   ------------- -------------------------- 15.8/46.2 MB 9.6 MB/s eta 0:00:04\n",
      "   -------------- ------------------------- 16.4/46.2 MB 9.6 MB/s eta 0:00:04\n",
      "   -------------- ------------------------- 16.8/46.2 MB 9.6 MB/s eta 0:00:04\n",
      "   -------------- ------------------------- 17.2/46.2 MB 9.6 MB/s eta 0:00:04\n",
      "   --------------- ------------------------ 17.7/46.2 MB 9.6 MB/s eta 0:00:03\n",
      "   --------------- ------------------------ 18.2/46.2 MB 9.8 MB/s eta 0:00:03\n",
      "   ---------------- ----------------------- 18.7/46.2 MB 9.6 MB/s eta 0:00:03\n",
      "   ---------------- ----------------------- 19.2/46.2 MB 9.9 MB/s eta 0:00:03\n",
      "   ----------------- ---------------------- 19.7/46.2 MB 9.9 MB/s eta 0:00:03\n",
      "   ----------------- ---------------------- 20.2/46.2 MB 10.1 MB/s eta 0:00:03\n",
      "   ----------------- ---------------------- 20.6/46.2 MB 10.2 MB/s eta 0:00:03\n",
      "   ------------------ --------------------- 21.0/46.2 MB 10.1 MB/s eta 0:00:03\n",
      "   ------------------ --------------------- 21.5/46.2 MB 9.9 MB/s eta 0:00:03\n",
      "   ------------------- -------------------- 22.0/46.2 MB 10.1 MB/s eta 0:00:03\n",
      "   ------------------- -------------------- 22.5/46.2 MB 10.2 MB/s eta 0:00:03\n",
      "   ------------------- -------------------- 23.0/46.2 MB 10.2 MB/s eta 0:00:03\n",
      "   -------------------- ------------------- 23.5/46.2 MB 10.2 MB/s eta 0:00:03\n",
      "   -------------------- ------------------- 23.9/46.2 MB 10.1 MB/s eta 0:00:03\n",
      "   --------------------- ------------------ 24.5/46.2 MB 10.1 MB/s eta 0:00:03\n",
      "   --------------------- ------------------ 24.9/46.2 MB 10.2 MB/s eta 0:00:03\n",
      "   ---------------------- ----------------- 25.5/46.2 MB 10.2 MB/s eta 0:00:03\n",
      "   ---------------------- ----------------- 25.9/46.2 MB 10.2 MB/s eta 0:00:02\n",
      "   ---------------------- ----------------- 26.4/46.2 MB 10.2 MB/s eta 0:00:02\n",
      "   ----------------------- ---------------- 27.0/46.2 MB 10.4 MB/s eta 0:00:02\n",
      "   ----------------------- ---------------- 27.5/46.2 MB 10.4 MB/s eta 0:00:02\n",
      "   ------------------------ --------------- 28.0/46.2 MB 10.6 MB/s eta 0:00:02\n",
      "   ------------------------ --------------- 28.7/46.2 MB 10.4 MB/s eta 0:00:02\n",
      "   ------------------------- -------------- 29.3/46.2 MB 10.6 MB/s eta 0:00:02\n",
      "   ------------------------- -------------- 29.8/46.2 MB 10.6 MB/s eta 0:00:02\n",
      "   -------------------------- ------------- 30.4/46.2 MB 10.6 MB/s eta 0:00:02\n",
      "   -------------------------- ------------- 30.8/46.2 MB 10.6 MB/s eta 0:00:02\n",
      "   --------------------------- ------------ 31.3/46.2 MB 10.7 MB/s eta 0:00:02\n",
      "   --------------------------- ------------ 31.8/46.2 MB 10.7 MB/s eta 0:00:02\n",
      "   --------------------------- ------------ 32.3/46.2 MB 10.7 MB/s eta 0:00:02\n",
      "   ---------------------------- ----------- 32.8/46.2 MB 10.7 MB/s eta 0:00:02\n",
      "   ---------------------------- ----------- 33.3/46.2 MB 10.7 MB/s eta 0:00:02\n",
      "   ----------------------------- ---------- 33.8/46.2 MB 10.9 MB/s eta 0:00:02\n",
      "   ----------------------------- ---------- 34.3/46.2 MB 10.9 MB/s eta 0:00:02\n",
      "   ------------------------------ --------- 34.8/46.2 MB 10.9 MB/s eta 0:00:02\n",
      "   ------------------------------ --------- 35.4/46.2 MB 11.1 MB/s eta 0:00:01\n",
      "   ------------------------------- -------- 35.9/46.2 MB 11.3 MB/s eta 0:00:01\n",
      "   ------------------------------- -------- 36.2/46.2 MB 11.3 MB/s eta 0:00:01\n",
      "   ------------------------------- -------- 36.2/46.2 MB 10.6 MB/s eta 0:00:01\n",
      "   ------------------------------- -------- 36.5/46.2 MB 10.2 MB/s eta 0:00:01\n",
      "   -------------------------------- ------- 37.0/46.2 MB 10.2 MB/s eta 0:00:01\n",
      "   -------------------------------- ------- 37.6/46.2 MB 10.2 MB/s eta 0:00:01\n",
      "   -------------------------------- ------- 38.1/46.2 MB 10.2 MB/s eta 0:00:01\n",
      "   --------------------------------- ------ 38.6/46.2 MB 10.2 MB/s eta 0:00:01\n",
      "   --------------------------------- ------ 39.1/46.2 MB 10.2 MB/s eta 0:00:01\n",
      "   ---------------------------------- ----- 39.7/46.2 MB 10.2 MB/s eta 0:00:01\n",
      "   ---------------------------------- ----- 40.1/46.2 MB 10.2 MB/s eta 0:00:01\n",
      "   ----------------------------------- ---- 40.6/46.2 MB 10.1 MB/s eta 0:00:01\n",
      "   ----------------------------------- ---- 41.1/46.2 MB 10.2 MB/s eta 0:00:01\n",
      "   ------------------------------------ --- 41.6/46.2 MB 10.1 MB/s eta 0:00:01\n",
      "   ------------------------------------ --- 42.1/46.2 MB 10.1 MB/s eta 0:00:01\n",
      "   ------------------------------------ --- 42.7/46.2 MB 10.1 MB/s eta 0:00:01\n",
      "   ------------------------------------- -- 43.2/46.2 MB 10.1 MB/s eta 0:00:01\n",
      "   -------------------------------------- - 43.9/46.2 MB 10.1 MB/s eta 0:00:01\n",
      "   -------------------------------------- - 44.4/46.2 MB 10.1 MB/s eta 0:00:01\n",
      "   -------------------------------------- - 44.8/46.2 MB 9.9 MB/s eta 0:00:01\n",
      "   ---------------------------------------  45.2/46.2 MB 9.8 MB/s eta 0:00:01\n",
      "   ---------------------------------------  45.7/46.2 MB 9.9 MB/s eta 0:00:01\n",
      "   ---------------------------------------  46.1/46.2 MB 9.8 MB/s eta 0:00:01\n",
      "   ---------------------------------------  46.2/46.2 MB 9.6 MB/s eta 0:00:01\n",
      "   ---------------------------------------  46.2/46.2 MB 9.6 MB/s eta 0:00:01\n",
      "   ---------------------------------------  46.2/46.2 MB 9.6 MB/s eta 0:00:01\n",
      "   ---------------------------------------  46.2/46.2 MB 9.6 MB/s eta 0:00:01\n",
      "   ---------------------------------------  46.2/46.2 MB 9.6 MB/s eta 0:00:01\n",
      "   ---------------------------------------- 46.2/46.2 MB 7.5 MB/s eta 0:00:00\n",
      "Downloading threadpoolctl-3.4.0-py3-none-any.whl (17 kB)\n",
      "Installing collected packages: threadpoolctl, scipy, scikit-learn\n",
      "Successfully installed scikit-learn-1.4.2 scipy-1.13.0 threadpoolctl-3.4.0\n"
     ]
    }
   ],
   "source": [
    "pip install -U scikit-learn"
   ]
  },
  {
   "cell_type": "code",
   "execution_count": 3,
   "id": "a012392d-a44e-4ced-9a6e-1e40a81c61f7",
   "metadata": {},
   "outputs": [],
   "source": [
    "df = pd.read_csv('creditcard.csv')"
   ]
  },
  {
   "cell_type": "code",
   "execution_count": 4,
   "id": "19365d9a-f44f-4a6f-a5c6-30fe1601f35f",
   "metadata": {},
   "outputs": [],
   "source": [
    "# Remove display limits for rows and columns\n",
    "pd.set_option('display.max_columns', None)\n",
    "pd.set_option('display.max_rows', None)"
   ]
  },
  {
   "cell_type": "code",
   "execution_count": 5,
   "id": "4fddc316-e322-4466-8baa-d4c6f50e7fe5",
   "metadata": {},
   "outputs": [
    {
     "data": {
      "text/plain": [
       "(284807, 31)"
      ]
     },
     "execution_count": 5,
     "metadata": {},
     "output_type": "execute_result"
    }
   ],
   "source": [
    "# Get general info about the data\n",
    "df.shape"
   ]
  },
  {
   "cell_type": "code",
   "execution_count": 6,
   "id": "15024768-4767-496e-9e3e-47acb87ee6a2",
   "metadata": {},
   "outputs": [],
   "source": [
    "# Downsample the data for analysis purposes\n",
    "\n",
    "# Sample 30k random rows\n",
    "df = df.sample(30000, random_state=42) # seeds the random number generator; starts at 42\n",
    "\n",
    "# Save sampled data in a new file\n",
    "df.to_csv('creditcard_downsampled')"
   ]
  },
  {
   "cell_type": "code",
   "execution_count": 7,
   "id": "1bc995c0-0d0e-4b42-b691-d66d874846f5",
   "metadata": {},
   "outputs": [
    {
     "name": "stdout",
     "output_type": "stream",
     "text": [
      "            Time         V1        V2         V3        V4         V5   \n",
      "43428    41505.0 -16.526507  8.584972 -18.649853  9.505594 -13.793819  \\\n",
      "49906    44261.0   0.339812 -2.743745  -0.134070 -1.385729  -1.451413   \n",
      "29474    35484.0   1.399590 -0.590701   0.168619 -1.029950  -0.539806   \n",
      "276481  167123.0  -0.432071  1.647895  -1.669361 -0.349504   0.785785   \n",
      "278846  168473.0   2.014160 -0.137394  -1.015839  0.327269  -0.182179   \n",
      "\n",
      "              V6         V7        V8        V9        V10       V11   \n",
      "43428  -2.832404 -16.701694  7.517344 -8.507059 -14.110184  5.299236  \\\n",
      "49906   1.015887  -0.524379  0.224060  0.899746  -0.565012 -0.087670   \n",
      "29474   0.040444  -0.712567  0.002299 -0.971747   0.756801  0.543827   \n",
      "276481 -0.630647   0.276990  0.586025 -0.484715  -1.376648 -1.328335   \n",
      "278846 -0.956571   0.043241 -0.160746  0.363241   0.259452  0.942162   \n",
      "\n",
      "              V12       V13       V14       V15       V16        V17   \n",
      "43428  -10.834006  1.671120 -9.373859  0.360806 -9.899247 -19.236292  \\\n",
      "49906    0.979427  0.076883 -0.217884 -0.136830 -2.142892   0.126956   \n",
      "29474    0.112453  1.075384 -0.245772  0.180483  1.769860  -0.533172   \n",
      "276481   0.223621  1.132627 -0.550875  0.616568  0.497974   0.502195   \n",
      "278846   0.850038 -0.616166  0.592634 -0.603845  0.091077  -0.471867   \n",
      "\n",
      "             V18       V19       V20       V21       V22       V23       V24   \n",
      "43428  -8.398552  3.101735 -1.514923  1.190739 -1.127670 -2.358579  0.673461  \\\n",
      "49906   1.752662  0.432546  0.506044 -0.213436 -0.942525 -0.526819 -1.156992   \n",
      "29474  -0.533300  1.192245  0.212877  0.102398  0.168269 -0.166639 -0.810250   \n",
      "276481  0.981343  0.101264 -0.244633  0.358932  0.873663 -0.178642 -0.017171   \n",
      "278846 -0.333816  0.404711 -0.255293 -0.238644 -0.616400  0.347045  0.061561   \n",
      "\n",
      "             V25       V26       V27       V28  Amount  Class  \n",
      "43428  -1.413700 -0.462762 -2.018575 -1.042804  364.19      1  \n",
      "49906   0.311211 -0.746647  0.040996  0.102038  520.12      0  \n",
      "29474   0.505083 -0.232340  0.011409  0.004634   31.00      0  \n",
      "276481 -0.207392 -0.157756 -0.237386  0.001934    1.50      0  \n",
      "278846 -0.360196  0.174730 -0.078043 -0.070571    0.89      0  \n"
     ]
    }
   ],
   "source": [
    "# Get familiar with the data \n",
    "print(df.head())"
   ]
  },
  {
   "cell_type": "code",
   "execution_count": 8,
   "id": "01f6fd38-cc0f-44cf-9313-ff19a102a77b",
   "metadata": {},
   "outputs": [
    {
     "data": {
      "text/plain": [
       "<Axes: ylabel='V13'>"
      ]
     },
     "execution_count": 8,
     "metadata": {},
     "output_type": "execute_result"
    },
    {
     "data": {
      "image/png": "[encoded data removed]",
      "text/plain": [
       "<Figure size 640x480 with 1 Axes>"
      ]
     },
     "metadata": {},
     "output_type": "display_data"
    }
   ],
   "source": [
    "import seaborn as sns\n",
    "# Use the default styles\n",
    "sns.set()\n",
    "sns.boxplot(y=df['V13'])"
   ]
  },
  {
   "cell_type": "code",
   "execution_count": 12,
   "id": "6c46d0a2-b67b-4b5c-8367-307286cad989",
   "metadata": {},
   "outputs": [
    {
     "name": "stdout",
     "output_type": "stream",
     "text": [
      "Q1: -0.6472346531137082\n"
     ]
    }
   ],
   "source": [
    "# Calculate IQR for col V13\n",
    "Q1=df['V13'].quantile(0.25)\n",
    "print(\"Q1:\", Q1)"
   ]
  },
  {
   "cell_type": "code",
   "execution_count": null,
   "id": "ed7af232-c8c6-481e-9e97-24dd87a394a7",
   "metadata": {},
   "outputs": [],
   "source": [
    "# 25 percent of the data is below -0.64"
   ]
  },
  {
   "cell_type": "code",
   "execution_count": 14,
   "id": "412e0ed3-6cc0-463e-bb6f-959f604a224c",
   "metadata": {},
   "outputs": [
    {
     "name": "stdout",
     "output_type": "stream",
     "text": [
      "Q3: 0.6635551276560145\n"
     ]
    }
   ],
   "source": [
    "Q3=df['V13'].quantile(0.75)\n",
    "print(\"Q3:\", Q3)"
   ]
  },
  {
   "cell_type": "code",
   "execution_count": null,
   "id": "0e6b4619-b43f-4a36-b38c-4e9ea8377f32",
   "metadata": {},
   "outputs": [],
   "source": [
    "# 75 percent of the data is below 0.66"
   ]
  },
  {
   "cell_type": "code",
   "execution_count": 15,
   "id": "2a04df9a-a143-45b9-a974-df6e4b609676",
   "metadata": {},
   "outputs": [
    {
     "name": "stdout",
     "output_type": "stream",
     "text": [
      "IQR: 1.3107897807697229\n"
     ]
    }
   ],
   "source": [
    "# Calculate IQR\n",
    "IQR = Q3-Q1\n",
    "print(\"IQR:\", IQR)"
   ]
  },
  {
   "cell_type": "code",
   "execution_count": 16,
   "id": "11739ef6-36b3-4531-b783-e901392f6b1e",
   "metadata": {},
   "outputs": [
    {
     "name": "stdout",
     "output_type": "stream",
     "text": [
      "-2.6134193242682926\n"
     ]
    }
   ],
   "source": [
    "# Calculate lower bound\n",
    "# Any value below the lower band is an outlier\n",
    "lower_bound = Q1-1.5*IQR\n",
    "print(lower_bound)"
   ]
  },
  {
   "cell_type": "code",
   "execution_count": 17,
   "id": "66b6dab4-d332-4168-96ea-c00c483bf2aa",
   "metadata": {},
   "outputs": [
    {
     "name": "stdout",
     "output_type": "stream",
     "text": [
      "2.629739798810599\n"
     ]
    }
   ],
   "source": [
    "# Calculate upper bound\n",
    "# Any value above the upper band is an outlier\n",
    "upper_bound = Q3+1.5*IQR\n",
    "print(upper_bound)"
   ]
  },
  {
   "cell_type": "code",
   "execution_count": 19,
   "id": "2e361da2-41c9-480e-8534-4edf890382da",
   "metadata": {},
   "outputs": [],
   "source": [
    "# Remove outliers from column\n",
    "df_clean = df[(df['V13']>lower_bound)&(df['V13']<upper_bound)]"
   ]
  },
  {
   "cell_type": "code",
   "execution_count": 20,
   "id": "cba38d48-8de6-4f4f-bb1a-4c854fc985c4",
   "metadata": {},
   "outputs": [
    {
     "data": {
      "text/plain": [
       "<Axes: ylabel='V13'>"
      ]
     },
     "execution_count": 20,
     "metadata": {},
     "output_type": "execute_result"
    },
    {
     "data": {
      "image/png": "[encoded data removed]",
      "text/plain": [
       "<Figure size 640x480 with 1 Axes>"
      ]
     },
     "metadata": {},
     "output_type": "display_data"
    }
   ],
   "source": [
    "# Plot clean data\n",
    "sns.boxplot(y = df_clean['V13'])"
   ]
  },
  {
   "cell_type": "code",
   "execution_count": null,
   "id": "e91118eb-6d57-482c-a457-022b58bf3216",
   "metadata": {},
   "outputs": [],
   "source": [
    "#2.DBSCAN"
   ]
  },
  {
   "cell_type": "code",
   "execution_count": 32,
   "id": "f3498b2f-f1f3-4204-96f0-7df76188f98d",
   "metadata": {},
   "outputs": [],
   "source": [
    "from sklearn.cluster import DBSCAN"
   ]
  },
  {
   "cell_type": "code",
   "execution_count": 39,
   "id": "6c68bb67-acf5-4446-89a2-8466ab37e73f",
   "metadata": {},
   "outputs": [],
   "source": [
    "# Define cols V13 and V14 as training data\n",
    "x_train = df[['V13', 'V14']]"
   ]
  },
  {
   "cell_type": "code",
   "execution_count": 40,
   "id": "653b51ff-2cbb-4fa4-a76d-734c13b08a46",
   "metadata": {},
   "outputs": [
    {
     "data": {
      "text/html": [
       "<style>#sk-container-id-1 {\n",
       "  /* Definition of color scheme common for light and dark mode */\n",
       "  --sklearn-color-text: black;\n",
       "  --sklearn-color-line: gray;\n",
       "  /* Definition of color scheme for unfitted estimators */\n",
       "  --sklearn-color-unfitted-level-0: #fff5e6;\n",
       "  --sklearn-color-unfitted-level-1: #f6e4d2;\n",
       "  --sklearn-color-unfitted-level-2: #ffe0b3;\n",
       "  --sklearn-color-unfitted-level-3: chocolate;\n",
       "  /* Definition of color scheme for fitted estimators */\n",
       "  --sklearn-color-fitted-level-0: #f0f8ff;\n",
       "  --sklearn-color-fitted-level-1: #d4ebff;\n",
       "  --sklearn-color-fitted-level-2: #b3dbfd;\n",
       "  --sklearn-color-fitted-level-3: cornflowerblue;\n",
       "\n",
       "  /* Specific color for light theme */\n",
       "  --sklearn-color-text-on-default-background: var(--sg-text-color, var(--theme-code-foreground, var(--jp-content-font-color1, black)));\n",
       "  --sklearn-color-background: var(--sg-background-color, var(--theme-background, var(--jp-layout-color0, white)));\n",
       "  --sklearn-color-border-box: var(--sg-text-color, var(--theme-code-foreground, var(--jp-content-font-color1, black)));\n",
       "  --sklearn-color-icon: #696969;\n",
       "\n",
       "  @media (prefers-color-scheme: dark) {\n",
       "    /* Redefinition of color scheme for dark theme */\n",
       "    --sklearn-color-text-on-default-background: var(--sg-text-color, var(--theme-code-foreground, var(--jp-content-font-color1, white)));\n",
       "    --sklearn-color-background: var(--sg-background-color, var(--theme-background, var(--jp-layout-color0, #111)));\n",
       "    --sklearn-color-border-box: var(--sg-text-color, var(--theme-code-foreground, var(--jp-content-font-color1, white)));\n",
       "    --sklearn-color-icon: #878787;\n",
       "  }\n",
       "}\n",
       "\n",
       "#sk-container-id-1 {\n",
       "  color: var(--sklearn-color-text);\n",
       "}\n",
       "\n",
       "#sk-container-id-1 pre {\n",
       "  padding: 0;\n",
       "}\n",
       "\n",
       "#sk-container-id-1 input.sk-hidden--visually {\n",
       "  border: 0;\n",
       "  clip: rect(1px 1px 1px 1px);\n",
       "  clip: rect(1px, 1px, 1px, 1px);\n",
       "  height: 1px;\n",
       "  margin: -1px;\n",
       "  overflow: hidden;\n",
       "  padding: 0;\n",
       "  position: absolute;\n",
       "  width: 1px;\n",
       "}\n",
       "\n",
       "#sk-container-id-1 div.sk-dashed-wrapped {\n",
       "  border: 1px dashed var(--sklearn-color-line);\n",
       "  margin: 0 0.4em 0.5em 0.4em;\n",
       "  box-sizing: border-box;\n",
       "  padding-bottom: 0.4em;\n",
       "  background-color: var(--sklearn-color-background);\n",
       "}\n",
       "\n",
       "#sk-container-id-1 div.sk-container {\n",
       "  /* jupyter's `normalize.less` sets `[hidden] { display: none; }`\n",
       "     but bootstrap.min.css set `[hidden] { display: none !important; }`\n",
       "     so we also need the `!important` here to be able to override the\n",
       "     default hidden behavior on the sphinx rendered scikit-learn.org.\n",
       "     See: https://github.com/scikit-learn/scikit-learn/issues/21755 */\n",
       "  display: inline-block !important;\n",
       "  position: relative;\n",
       "}\n",
       "\n",
       "#sk-container-id-1 div.sk-text-repr-fallback {\n",
       "  display: none;\n",
       "}\n",
       "\n",
       "div.sk-parallel-item,\n",
       "div.sk-serial,\n",
       "div.sk-item {\n",
       "  /* draw centered vertical line to link estimators */\n",
       "  background-image: linear-gradient(var(--sklearn-color-text-on-default-background), var(--sklearn-color-text-on-default-background));\n",
       "  background-size: 2px 100%;\n",
       "  background-repeat: no-repeat;\n",
       "  background-position: center center;\n",
       "}\n",
       "\n",
       "/* Parallel-specific style estimator block */\n",
       "\n",
       "#sk-container-id-1 div.sk-parallel-item::after {\n",
       "  content: \"\";\n",
       "  width: 100%;\n",
       "  border-bottom: 2px solid var(--sklearn-color-text-on-default-background);\n",
       "  flex-grow: 1;\n",
       "}\n",
       "\n",
       "#sk-container-id-1 div.sk-parallel {\n",
       "  display: flex;\n",
       "  align-items: stretch;\n",
       "  justify-content: center;\n",
       "  background-color: var(--sklearn-color-background);\n",
       "  position: relative;\n",
       "}\n",
       "\n",
       "#sk-container-id-1 div.sk-parallel-item {\n",
       "  display: flex;\n",
       "  flex-direction: column;\n",
       "}\n",
       "\n",
       "#sk-container-id-1 div.sk-parallel-item:first-child::after {\n",
       "  align-self: flex-end;\n",
       "  width: 50%;\n",
       "}\n",
       "\n",
       "#sk-container-id-1 div.sk-parallel-item:last-child::after {\n",
       "  align-self: flex-start;\n",
       "  width: 50%;\n",
       "}\n",
       "\n",
       "#sk-container-id-1 div.sk-parallel-item:only-child::after {\n",
       "  width: 0;\n",
       "}\n",
       "\n",
       "/* Serial-specific style estimator block */\n",
       "\n",
       "#sk-container-id-1 div.sk-serial {\n",
       "  display: flex;\n",
       "  flex-direction: column;\n",
       "  align-items: center;\n",
       "  background-color: var(--sklearn-color-background);\n",
       "  padding-right: 1em;\n",
       "  padding-left: 1em;\n",
       "}\n",
       "\n",
       "\n",
       "/* Toggleable style: style used for estimator/Pipeline/ColumnTransformer box that is\n",
       "clickable and can be expanded/collapsed.\n",
       "- Pipeline and ColumnTransformer use this feature and define the default style\n",
       "- Estimators will overwrite some part of the style using the `sk-estimator` class\n",
       "*/\n",
       "\n",
       "/* Pipeline and ColumnTransformer style (default) */\n",
       "\n",
       "#sk-container-id-1 div.sk-toggleable {\n",
       "  /* Default theme specific background. It is overwritten whether we have a\n",
       "  specific estimator or a Pipeline/ColumnTransformer */\n",
       "  background-color: var(--sklearn-color-background);\n",
       "}\n",
       "\n",
       "/* Toggleable label */\n",
       "#sk-container-id-1 label.sk-toggleable__label {\n",
       "  cursor: pointer;\n",
       "  display: block;\n",
       "  width: 100%;\n",
       "  margin-bottom: 0;\n",
       "  padding: 0.5em;\n",
       "  box-sizing: border-box;\n",
       "  text-align: center;\n",
       "}\n",
       "\n",
       "#sk-container-id-1 label.sk-toggleable__label-arrow:before {\n",
       "  /* Arrow on the left of the label */\n",
       "  content: \"▸\";\n",
       "  float: left;\n",
       "  margin-right: 0.25em;\n",
       "  color: var(--sklearn-color-icon);\n",
       "}\n",
       "\n",
       "#sk-container-id-1 label.sk-toggleable__label-arrow:hover:before {\n",
       "  color: var(--sklearn-color-text);\n",
       "}\n",
       "\n",
       "/* Toggleable content - dropdown */\n",
       "\n",
       "#sk-container-id-1 div.sk-toggleable__content {\n",
       "  max-height: 0;\n",
       "  max-width: 0;\n",
       "  overflow: hidden;\n",
       "  text-align: left;\n",
       "  /* unfitted */\n",
       "  background-color: var(--sklearn-color-unfitted-level-0);\n",
       "}\n",
       "\n",
       "#sk-container-id-1 div.sk-toggleable__content.fitted {\n",
       "  /* fitted */\n",
       "  background-color: var(--sklearn-color-fitted-level-0);\n",
       "}\n",
       "\n",
       "#sk-container-id-1 div.sk-toggleable__content pre {\n",
       "  margin: 0.2em;\n",
       "  border-radius: 0.25em;\n",
       "  color: var(--sklearn-color-text);\n",
       "  /* unfitted */\n",
       "  background-color: var(--sklearn-color-unfitted-level-0);\n",
       "}\n",
       "\n",
       "#sk-container-id-1 div.sk-toggleable__content.fitted pre {\n",
       "  /* unfitted */\n",
       "  background-color: var(--sklearn-color-fitted-level-0);\n",
       "}\n",
       "\n",
       "#sk-container-id-1 input.sk-toggleable__control:checked~div.sk-toggleable__content {\n",
       "  /* Expand drop-down */\n",
       "  max-height: 200px;\n",
       "  max-width: 100%;\n",
       "  overflow: auto;\n",
       "}\n",
       "\n",
       "#sk-container-id-1 input.sk-toggleable__control:checked~label.sk-toggleable__label-arrow:before {\n",
       "  content: \"▾\";\n",
       "}\n",
       "\n",
       "/* Pipeline/ColumnTransformer-specific style */\n",
       "\n",
       "#sk-container-id-1 div.sk-label input.sk-toggleable__control:checked~label.sk-toggleable__label {\n",
       "  color: var(--sklearn-color-text);\n",
       "  background-color: var(--sklearn-color-unfitted-level-2);\n",
       "}\n",
       "\n",
       "#sk-container-id-1 div.sk-label.fitted input.sk-toggleable__control:checked~label.sk-toggleable__label {\n",
       "  background-color: var(--sklearn-color-fitted-level-2);\n",
       "}\n",
       "\n",
       "/* Estimator-specific style */\n",
       "\n",
       "/* Colorize estimator box */\n",
       "#sk-container-id-1 div.sk-estimator input.sk-toggleable__control:checked~label.sk-toggleable__label {\n",
       "  /* unfitted */\n",
       "  background-color: var(--sklearn-color-unfitted-level-2);\n",
       "}\n",
       "\n",
       "#sk-container-id-1 div.sk-estimator.fitted input.sk-toggleable__control:checked~label.sk-toggleable__label {\n",
       "  /* fitted */\n",
       "  background-color: var(--sklearn-color-fitted-level-2);\n",
       "}\n",
       "\n",
       "#sk-container-id-1 div.sk-label label.sk-toggleable__label,\n",
       "#sk-container-id-1 div.sk-label label {\n",
       "  /* The background is the default theme color */\n",
       "  color: var(--sklearn-color-text-on-default-background);\n",
       "}\n",
       "\n",
       "/* On hover, darken the color of the background */\n",
       "#sk-container-id-1 div.sk-label:hover label.sk-toggleable__label {\n",
       "  color: var(--sklearn-color-text);\n",
       "  background-color: var(--sklearn-color-unfitted-level-2);\n",
       "}\n",
       "\n",
       "/* Label box, darken color on hover, fitted */\n",
       "#sk-container-id-1 div.sk-label.fitted:hover label.sk-toggleable__label.fitted {\n",
       "  color: var(--sklearn-color-text);\n",
       "  background-color: var(--sklearn-color-fitted-level-2);\n",
       "}\n",
       "\n",
       "/* Estimator label */\n",
       "\n",
       "#sk-container-id-1 div.sk-label label {\n",
       "  font-family: monospace;\n",
       "  font-weight: bold;\n",
       "  display: inline-block;\n",
       "  line-height: 1.2em;\n",
       "}\n",
       "\n",
       "#sk-container-id-1 div.sk-label-container {\n",
       "  text-align: center;\n",
       "}\n",
       "\n",
       "/* Estimator-specific */\n",
       "#sk-container-id-1 div.sk-estimator {\n",
       "  font-family: monospace;\n",
       "  border: 1px dotted var(--sklearn-color-border-box);\n",
       "  border-radius: 0.25em;\n",
       "  box-sizing: border-box;\n",
       "  margin-bottom: 0.5em;\n",
       "  /* unfitted */\n",
       "  background-color: var(--sklearn-color-unfitted-level-0);\n",
       "}\n",
       "\n",
       "#sk-container-id-1 div.sk-estimator.fitted {\n",
       "  /* fitted */\n",
       "  background-color: var(--sklearn-color-fitted-level-0);\n",
       "}\n",
       "\n",
       "/* on hover */\n",
       "#sk-container-id-1 div.sk-estimator:hover {\n",
       "  /* unfitted */\n",
       "  background-color: var(--sklearn-color-unfitted-level-2);\n",
       "}\n",
       "\n",
       "#sk-container-id-1 div.sk-estimator.fitted:hover {\n",
       "  /* fitted */\n",
       "  background-color: var(--sklearn-color-fitted-level-2);\n",
       "}\n",
       "\n",
       "/* Specification for estimator info (e.g. \"i\" and \"?\") */\n",
       "\n",
       "/* Common style for \"i\" and \"?\" */\n",
       "\n",
       ".sk-estimator-doc-link,\n",
       "a:link.sk-estimator-doc-link,\n",
       "a:visited.sk-estimator-doc-link {\n",
       "  float: right;\n",
       "  font-size: smaller;\n",
       "  line-height: 1em;\n",
       "  font-family: monospace;\n",
       "  background-color: var(--sklearn-color-background);\n",
       "  border-radius: 1em;\n",
       "  height: 1em;\n",
       "  width: 1em;\n",
       "  text-decoration: none !important;\n",
       "  margin-left: 1ex;\n",
       "  /* unfitted */\n",
       "  border: var(--sklearn-color-unfitted-level-1) 1pt solid;\n",
       "  color: var(--sklearn-color-unfitted-level-1);\n",
       "}\n",
       "\n",
       ".sk-estimator-doc-link.fitted,\n",
       "a:link.sk-estimator-doc-link.fitted,\n",
       "a:visited.sk-estimator-doc-link.fitted {\n",
       "  /* fitted */\n",
       "  border: var(--sklearn-color-fitted-level-1) 1pt solid;\n",
       "  color: var(--sklearn-color-fitted-level-1);\n",
       "}\n",
       "\n",
       "/* On hover */\n",
       "div.sk-estimator:hover .sk-estimator-doc-link:hover,\n",
       ".sk-estimator-doc-link:hover,\n",
       "div.sk-label-container:hover .sk-estimator-doc-link:hover,\n",
       ".sk-estimator-doc-link:hover {\n",
       "  /* unfitted */\n",
       "  background-color: var(--sklearn-color-unfitted-level-3);\n",
       "  color: var(--sklearn-color-background);\n",
       "  text-decoration: none;\n",
       "}\n",
       "\n",
       "div.sk-estimator.fitted:hover .sk-estimator-doc-link.fitted:hover,\n",
       ".sk-estimator-doc-link.fitted:hover,\n",
       "div.sk-label-container:hover .sk-estimator-doc-link.fitted:hover,\n",
       ".sk-estimator-doc-link.fitted:hover {\n",
       "  /* fitted */\n",
       "  background-color: var(--sklearn-color-fitted-level-3);\n",
       "  color: var(--sklearn-color-background);\n",
       "  text-decoration: none;\n",
       "}\n",
       "\n",
       "/* Span, style for the box shown on hovering the info icon */\n",
       ".sk-estimator-doc-link span {\n",
       "  display: none;\n",
       "  z-index: 9999;\n",
       "  position: relative;\n",
       "  font-weight: normal;\n",
       "  right: .2ex;\n",
       "  padding: .5ex;\n",
       "  margin: .5ex;\n",
       "  width: min-content;\n",
       "  min-width: 20ex;\n",
       "  max-width: 50ex;\n",
       "  color: var(--sklearn-color-text);\n",
       "  box-shadow: 2pt 2pt 4pt #999;\n",
       "  /* unfitted */\n",
       "  background: var(--sklearn-color-unfitted-level-0);\n",
       "  border: .5pt solid var(--sklearn-color-unfitted-level-3);\n",
       "}\n",
       "\n",
       ".sk-estimator-doc-link.fitted span {\n",
       "  /* fitted */\n",
       "  background: var(--sklearn-color-fitted-level-0);\n",
       "  border: var(--sklearn-color-fitted-level-3);\n",
       "}\n",
       "\n",
       ".sk-estimator-doc-link:hover span {\n",
       "  display: block;\n",
       "}\n",
       "\n",
       "/* \"?\"-specific style due to the `<a>` HTML tag */\n",
       "\n",
       "#sk-container-id-1 a.estimator_doc_link {\n",
       "  float: right;\n",
       "  font-size: 1rem;\n",
       "  line-height: 1em;\n",
       "  font-family: monospace;\n",
       "  background-color: var(--sklearn-color-background);\n",
       "  border-radius: 1rem;\n",
       "  height: 1rem;\n",
       "  width: 1rem;\n",
       "  text-decoration: none;\n",
       "  /* unfitted */\n",
       "  color: var(--sklearn-color-unfitted-level-1);\n",
       "  border: var(--sklearn-color-unfitted-level-1) 1pt solid;\n",
       "}\n",
       "\n",
       "#sk-container-id-1 a.estimator_doc_link.fitted {\n",
       "  /* fitted */\n",
       "  border: var(--sklearn-color-fitted-level-1) 1pt solid;\n",
       "  color: var(--sklearn-color-fitted-level-1);\n",
       "}\n",
       "\n",
       "/* On hover */\n",
       "#sk-container-id-1 a.estimator_doc_link:hover {\n",
       "  /* unfitted */\n",
       "  background-color: var(--sklearn-color-unfitted-level-3);\n",
       "  color: var(--sklearn-color-background);\n",
       "  text-decoration: none;\n",
       "}\n",
       "\n",
       "#sk-container-id-1 a.estimator_doc_link.fitted:hover {\n",
       "  /* fitted */\n",
       "  background-color: var(--sklearn-color-fitted-level-3);\n",
       "}\n",
       "</style><div id=\"sk-container-id-1\" class=\"sk-top-container\"><div class=\"sk-text-repr-fallback\"><pre>DBSCAN()</pre><b>In a Jupyter environment, please rerun this cell to show the HTML representation or trust the notebook. <br />On GitHub, the HTML representation is unable to render, please try loading this page with nbviewer.org.</b></div><div class=\"sk-container\" hidden><div class=\"sk-item\"><div class=\"sk-estimator fitted sk-toggleable\"><input class=\"sk-toggleable__control sk-hidden--visually\" id=\"sk-estimator-id-1\" type=\"checkbox\" checked><label for=\"sk-estimator-id-1\" class=\"sk-toggleable__label fitted sk-toggleable__label-arrow fitted\">&nbsp;&nbsp;DBSCAN<a class=\"sk-estimator-doc-link fitted\" rel=\"noreferrer\" target=\"_blank\" href=\"https://scikit-learn.org/1.4/modules/generated/sklearn.cluster.DBSCAN.html\">?<span>Documentation for DBSCAN</span></a><span class=\"sk-estimator-doc-link fitted\">i<span>Fitted</span></span></label><div class=\"sk-toggleable__content fitted\"><pre>DBSCAN()</pre></div> </div></div></div></div>"
      ],
      "text/plain": [
       "DBSCAN()"
      ]
     },
     "execution_count": 40,
     "metadata": {},
     "output_type": "execute_result"
    }
   ],
   "source": [
    "# Fit clustering method to the training data\n",
    "model = DBSCAN()\n",
    "model.fit(x_train)"
   ]
  },
  {
   "cell_type": "code",
   "execution_count": 47,
   "id": "461d7335-41c1-4a77-ae39-428a14f41592",
   "metadata": {},
   "outputs": [
    {
     "data": {
      "image/png": "[encoded data removed]",
      "text/plain": [
       "<Figure size 640x480 with 1 Axes>"
      ]
     },
     "metadata": {},
     "output_type": "display_data"
    }
   ],
   "source": [
    "# Generate a scatter plot and label outliers\n",
    "import matplotlib.pyplot as plt\n",
    "\n",
    "# cluster_label var holds cluster assignments for each datapoint\n",
    "cluster_labels = model.labels_\n",
    "plt.scatter(df['V13'], df['V14'],c=cluster_labels) # c colors the points based on their cluster assignments\n",
    "plt.show()"
   ]
  },
  {
   "cell_type": "code",
   "execution_count": null,
   "id": "c861376b-0fe4-4372-8957-30ef857a4130",
   "metadata": {},
   "outputs": [],
   "source": [
    "# Store cluster labels in a new column (labels) in the df\n",
    "df['labels'] = cluster_labels"
   ]
  },
  {
   "cell_type": "code",
   "execution_count": null,
   "id": "e5eab20d-3cda-4a68-bf65-2f1bf5b3017c",
   "metadata": {},
   "outputs": [],
   "source": [
    "# Remove outliers based on cluster labels\n",
    "df_clean_cluster = df[df['labels'] != -1] # Cluster label value of -1 is assigned to outliers; here we don't include them"
   ]
  },
  {
   "cell_type": "code",
   "execution_count": null,
   "id": "e7c0d987-0080-4e76-8b38-da9adc0f1f15",
   "metadata": {},
   "outputs": [],
   "source": []
  }
 ],
 "metadata": {
  "kernelspec": {
   "display_name": "Python 3 (ipykernel)",
   "language": "python",
   "name": "python3"
  },
  "language_info": {
   "codemirror_mode": {
    "name": "ipython",
    "version": 3
   },
   "file_extension": ".py",
   "mimetype": "text/x-python",
   "name": "python",
   "nbconvert_exporter": "python",
   "pygments_lexer": "ipython3",
   "version": "3.11.2"
  }
 },
 "nbformat": 4,
 "nbformat_minor": 5
}
